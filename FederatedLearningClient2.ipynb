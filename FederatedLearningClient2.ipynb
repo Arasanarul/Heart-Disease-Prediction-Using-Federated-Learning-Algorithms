{
 "cells": [
  {
   "cell_type": "code",
   "execution_count": 41,
   "id": "0aa4a8d9-be96-4631-836f-44ea3a0c6a87",
   "metadata": {},
   "outputs": [],
   "source": [
    "import socket\n",
    "import pickle\n",
    "import pandas as pd\n",
    "import numpy as np\n",
    "from cryptography.hazmat.primitives.asymmetric import ec\n",
    "from cryptography.hazmat.primitives import hashes, serialization\n",
    "from cryptography.hazmat.primitives.kdf.hkdf import HKDF\n",
    "from cryptography.hazmat.primitives.ciphers.aead import AESGCM\n",
    "from tensorflow.keras.models import Sequential\n",
    "from tensorflow.keras.layers import Dense\n",
    "from tensorflow.keras.optimizers import SGD\n"
   ]
  },
  {
   "cell_type": "code",
   "execution_count": 42,
   "id": "c8cabf87-7f93-4b77-bc26-5e5f409e704c",
   "metadata": {},
   "outputs": [],
   "source": [
    "dataset_path = 'heart2ex.csv'\n",
    "data = pd.read_csv(dataset_path)\n",
    "X = data.iloc[:, :-1].values\n",
    "y = data.iloc[:, -1].values"
   ]
  },
  {
   "cell_type": "code",
   "execution_count": 43,
   "id": "dec73ec9-adf1-4548-94f5-033d146b5274",
   "metadata": {},
   "outputs": [],
   "source": [
    "def build_model(input_dim):\n",
    "    model = Sequential([\n",
    "        Dense(16, activation='relu', input_shape=(input_dim,)),\n",
    "        Dense(8, activation='relu'),\n",
    "        Dense(1, activation='sigmoid')\n",
    "    ])\n",
    "    model.compile(optimizer=SGD(learning_rate=0.01), loss='binary_crossentropy', metrics=['accuracy'])\n",
    "    return model\n"
   ]
  },
  {
   "cell_type": "code",
   "execution_count": 44,
   "id": "71370678-46cf-4330-a1a0-6ebc2181ec80",
   "metadata": {},
   "outputs": [],
   "source": [
    "server_ip = 'localhost'\n",
    "server_port = 5000\n",
    "client_socket = socket.socket(socket.AF_INET, socket.SOCK_STREAM)\n",
    "client_socket.connect((server_ip, server_port))"
   ]
  },
  {
   "cell_type": "code",
   "execution_count": 45,
   "id": "665a73aa-fee3-4415-8e94-17f5dcddcb58",
   "metadata": {},
   "outputs": [],
   "source": [
    "client_private_key = ec.generate_private_key(ec.SECP256R1())\n",
    "client_public_key = client_private_key.public_key()"
   ]
  },
  {
   "cell_type": "code",
   "execution_count": 46,
   "id": "501eb865-4c49-4290-a017-ffb3e3f5c9c6",
   "metadata": {},
   "outputs": [
    {
     "data": {
      "text/plain": [
       "178"
      ]
     },
     "execution_count": 46,
     "metadata": {},
     "output_type": "execute_result"
    }
   ],
   "source": [
    "server_public_key_pem = client_socket.recv(1024)\n",
    "server_public_key = serialization.load_pem_public_key(server_public_key_pem)\n",
    "client_socket.send(client_public_key.public_bytes(\n",
    "    encoding=serialization.Encoding.PEM,\n",
    "    format=serialization.PublicFormat.SubjectPublicKeyInfo\n",
    "))"
   ]
  },
  {
   "cell_type": "code",
   "execution_count": null,
   "id": "09fe2d15-1da4-4683-a462-8fad746d0e10",
   "metadata": {},
   "outputs": [
    {
     "name": "stdout",
     "output_type": "stream",
     "text": [
      "lasso selected features: {lasso_selected_features}\n",
      "mutual_info_selected_features: {mutual_info_selected_features}\n",
      "12\n",
      "Selected features indices: [ 0  1  2  3  4  6  7  8  9 10 11 12]\n"
     ]
    }
   ],
   "source": [
    "from sklearn.feature_selection import mutual_info_classif\n",
    "from sklearn.linear_model import Lasso\n",
    "from sklearn.preprocessing import StandardScaler\n",
    "\n",
    "scaler = StandardScaler()\n",
    "X_scaled = scaler.fit_transform(X)\n",
    "\n",
    "lasso = Lasso(alpha=0.01, max_iter=1000)\n",
    "lasso.fit(X_scaled, y)\n",
    "lasso_selected_features = np.where(np.abs(lasso.coef_) > 0)[0]\n",
    "\n",
    "mutual_info = mutual_info_classif(X, y, random_state=42)\n",
    "mutual_info_selected_features = np.argsort(mutual_info)[-8:] \n",
    "print(f\"lasso selected features: {lasso_selected_features}\")\n",
    "print(f\"mutual_info_selected_features: {mutual_info_selected_features}\")\n",
    "\n",
    "selected_features = np.unique(np.concatenate((lasso_selected_features, mutual_info_selected_features)))\n",
    "\n",
    "X = X[:, selected_features]\n",
    "print(X.shape[1])\n",
    "print(f\"Selected features indices: {selected_features}\")\n"
   ]
  },
  {
   "cell_type": "code",
   "execution_count": 48,
   "id": "5b43711b-0c30-4c7d-8162-62cbcd23ddc9",
   "metadata": {},
   "outputs": [
    {
     "name": "stdout",
     "output_type": "stream",
     "text": [
      "Starting round 1/30\n"
     ]
    },
    {
     "name": "stderr",
     "output_type": "stream",
     "text": [
      "c:\\Users\\krish\\AppData\\Local\\Programs\\Python\\Python311\\Lib\\site-packages\\keras\\src\\layers\\core\\dense.py:87: UserWarning: Do not pass an `input_shape`/`input_dim` argument to a layer. When using Sequential models, prefer using an `Input(shape)` object as the first layer in the model instead.\n",
      "  super().__init__(activity_regularizer=activity_regularizer, **kwargs)\n"
     ]
    },
    {
     "name": "stdout",
     "output_type": "stream",
     "text": [
      "Round 1 complete.\n",
      "Starting round 2/30\n",
      "Round 2 complete.\n",
      "Starting round 3/30\n",
      "Round 3 complete.\n",
      "Starting round 4/30\n",
      "Round 4 complete.\n",
      "Starting round 5/30\n",
      "Round 5 complete.\n",
      "Starting round 6/30\n",
      "Round 6 complete.\n",
      "Starting round 7/30\n",
      "Round 7 complete.\n",
      "Starting round 8/30\n",
      "Round 8 complete.\n",
      "Starting round 9/30\n",
      "Round 9 complete.\n",
      "Starting round 10/30\n",
      "Round 10 complete.\n",
      "Starting round 11/30\n",
      "Round 11 complete.\n",
      "Starting round 12/30\n",
      "Round 12 complete.\n",
      "Starting round 13/30\n",
      "Round 13 complete.\n",
      "Starting round 14/30\n",
      "Round 14 complete.\n",
      "Starting round 15/30\n",
      "Round 15 complete.\n",
      "Starting round 16/30\n",
      "Round 16 complete.\n",
      "Starting round 17/30\n",
      "Round 17 complete.\n",
      "Starting round 18/30\n",
      "Round 18 complete.\n",
      "Starting round 19/30\n",
      "Round 19 complete.\n",
      "Starting round 20/30\n",
      "Round 20 complete.\n",
      "Starting round 21/30\n",
      "Round 21 complete.\n",
      "Starting round 22/30\n",
      "Round 22 complete.\n",
      "Starting round 23/30\n",
      "Round 23 complete.\n",
      "Starting round 24/30\n",
      "Round 24 complete.\n",
      "Starting round 25/30\n",
      "Round 25 complete.\n",
      "Starting round 26/30\n",
      "Round 26 complete.\n",
      "Starting round 27/30\n",
      "Round 27 complete.\n",
      "Starting round 28/30\n",
      "Round 28 complete.\n",
      "Starting round 29/30\n",
      "Round 29 complete.\n",
      "Starting round 30/30\n",
      "Round 30 complete.\n",
      "Federated learning complete and connection closed.\n"
     ]
    }
   ],
   "source": [
    "num_rounds = 30\n",
    "for round_num in range(num_rounds):\n",
    "    print(f\"Starting round {round_num + 1}/{num_rounds}\")\n",
    "    \n",
    "    encrypted_data = client_socket.recv(4096)\n",
    "    shared_key = client_private_key.exchange(ec.ECDH(), server_public_key)\n",
    "    derived_key = HKDF(algorithm=hashes.SHA256(), length=32, salt=None, info=b'handshake data').derive(shared_key)\n",
    "    aesgcm = AESGCM(derived_key)\n",
    "    nonce = b'\\x00' * 12  # Example nonce\n",
    "    data = aesgcm.decrypt(nonce, encrypted_data, None)\n",
    "    global_weights = pickle.loads(data)\n",
    "\n",
    "    model = build_model(input_dim=X.shape[1])  # Adjust input shape dynamically\n",
    "\n",
    "    if global_weights is not None:\n",
    "        model.set_weights(global_weights)\n",
    "\n",
    "    model.fit(X, y, epochs=1, verbose=0)\n",
    "\n",
    "    local_weights = model.get_weights()\n",
    "    data = pickle.dumps(local_weights)\n",
    "    encrypted_data = aesgcm.encrypt(nonce, data, None)\n",
    "    \n",
    "    client_socket.send(encrypted_data)\n",
    "    print(f\"Round {round_num + 1} complete.\")\n",
    "\n",
    "client_socket.close()\n",
    "print(\"Federated learning complete and connection closed.\")\n"
   ]
  }
 ],
 "metadata": {
  "kernelspec": {
   "display_name": "Python 3",
   "language": "python",
   "name": "python3"
  },
  "language_info": {
   "codemirror_mode": {
    "name": "ipython",
    "version": 3
   },
   "file_extension": ".py",
   "mimetype": "text/x-python",
   "name": "python",
   "nbconvert_exporter": "python",
   "pygments_lexer": "ipython3",
   "version": "3.11.8"
  }
 },
 "nbformat": 4,
 "nbformat_minor": 5
}
