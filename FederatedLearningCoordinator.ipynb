{
 "cells": [
  {
   "cell_type": "code",
   "execution_count": 1,
   "id": "7e0705a0-65e8-4a49-bc1f-c05fec60fe93",
   "metadata": {},
   "outputs": [],
   "source": [
    "import socket\n",
    "import pickle\n",
    "from cryptography.hazmat.primitives.asymmetric import ec\n",
    "from cryptography.hazmat.primitives import hashes, serialization\n",
    "from cryptography.hazmat.primitives.kdf.hkdf import HKDF\n",
    "from cryptography.hazmat.primitives.kdf.pbkdf2 import PBKDF2HMAC\n",
    "from cryptography.hazmat.primitives.ciphers.aead import AESGCM\n",
    "from cryptography.hazmat.primitives import padding\n",
    "import numpy as np\n",
    "from tensorflow.keras.models import Sequential\n",
    "from tensorflow.keras.layers import Dense\n",
    "from tensorflow.keras.optimizers import SGD"
   ]
  },
  {
   "cell_type": "code",
   "execution_count": 2,
   "id": "c3e7173e-e21c-4a84-a829-aec3c66231dd",
   "metadata": {},
   "outputs": [
    {
     "name": "stdout",
     "output_type": "stream",
     "text": [
      "Server listening on localhost:5000\n"
     ]
    }
   ],
   "source": [
    "server_ip = 'localhost'\n",
    "server_port = 5000\n",
    "server_socket = socket.socket(socket.AF_INET, socket.SOCK_STREAM)\n",
    "server_socket.bind((server_ip, server_port))\n",
    "server_socket.listen(3)  # Listening to 3 clients\n",
    "\n",
    "print(f\"Server listening on {server_ip}:{server_port}\")"
   ]
  },
  {
   "cell_type": "code",
   "execution_count": 3,
   "id": "ff0589be-d463-4715-889b-7a36a5a51a19",
   "metadata": {},
   "outputs": [],
   "source": [
    "server_private_key = ec.generate_private_key(ec.SECP256R1())\n",
    "server_public_key = server_private_key.public_key()"
   ]
  },
  {
   "cell_type": "code",
   "execution_count": 4,
   "id": "72efdd35-0d6f-4b98-b334-099fce05ef09",
   "metadata": {},
   "outputs": [
    {
     "name": "stdout",
     "output_type": "stream",
     "text": [
      "Client 1 connected from ('127.0.0.1', 50854)\n",
      "Client 2 connected from ('127.0.0.1', 50857)\n",
      "Client 3 connected from ('127.0.0.1', 50862)\n"
     ]
    }
   ],
   "source": [
    "client_connections = []\n",
    "for i in range(3):\n",
    "    conn, addr = server_socket.accept()\n",
    "    print(f\"Client {i+1} connected from {addr}\")\n",
    "    client_connections.append(conn)\n",
    "    conn.send(server_public_key.public_bytes(\n",
    "        encoding=serialization.Encoding.PEM,\n",
    "        format=serialization.PublicFormat.SubjectPublicKeyInfo\n",
    "    ))"
   ]
  },
  {
   "cell_type": "code",
   "execution_count": 5,
   "id": "767826c1-547e-469e-ad34-e75860dc2db0",
   "metadata": {},
   "outputs": [],
   "source": [
    "client_public_keys = []\n",
    "for i in range(3):\n",
    "    client_public_key_pem = client_connections[i].recv(1024)\n",
    "    client_public_key = serialization.load_pem_public_key(client_public_key_pem)\n",
    "    client_public_keys.append(client_public_key)"
   ]
  },
  {
   "cell_type": "code",
   "execution_count": null,
   "id": "b26e6018-6abe-48de-af6a-4b20902b48c1",
   "metadata": {},
   "outputs": [],
   "source": [
    "\n",
    "global_weights = None\n",
    "def build_model(input_dim):\n",
    "    model = Sequential([\n",
    "        Dense(16, activation='relu', input_shape=(input_dim,)),\n",
    "        Dense(8, activation='relu'),\n",
    "        Dense(1, activation='sigmoid')\n",
    "    ])\n",
    "    model.compile(optimizer=SGD(learning_rate=0.01), loss='binary_crossentropy', metrics=['accuracy'])\n",
    "    return model\n"
   ]
  },
  {
   "cell_type": "code",
   "execution_count": null,
   "id": "e3e4d9cd-bde3-41b0-b6ed-9e26d904c1c5",
   "metadata": {},
   "outputs": [
    {
     "name": "stdout",
     "output_type": "stream",
     "text": [
      "Starting round 1/30"
     ]
    },
    {
     "name": "stderr",
     "output_type": "stream",
     "text": [
      "c:\\Users\\krish\\AppData\\Local\\Programs\\Python\\Python311\\Lib\\site-packages\\keras\\src\\layers\\core\\dense.py:87: UserWarning: Do not pass an `input_shape`/`input_dim` argument to a layer. When using Sequential models, prefer using an `Input(shape)` object as the first layer in the model instead.\n",
      "  super().__init__(activity_regularizer=activity_regularizer, **kwargs)\n"
     ]
    },
    {
     "name": "stdout",
     "output_type": "stream",
     "text": [
      "\n"
     ]
    }
   ],
   "source": [
    "model = build_model(input_dim=X.shape[1])  # Adjust input shape dynamically\n",
    "\n",
    "\n",
    "\n",
    "num_rounds = 30\n",
    "for round_num in range(num_rounds):\n",
    "    print(f\"Starting round {round_num + 1}/{num_rounds}\")\n",
    "    \n",
    "    client_weights = []\n",
    "    \n",
    "\n",
    "    for i in range(3):\n",
    "        data = pickle.dumps(global_weights)\n",
    "   \n",
    "        shared_key = server_private_key.exchange(ec.ECDH(), client_public_keys[i])\n",
    "        derived_key = HKDF(algorithm=hashes.SHA256(), length=32, salt=None, info=b'handshake data').derive(shared_key)\n",
    "        aesgcm = AESGCM(derived_key)\n",
    "        nonce = b'\\x00' * 12  \n",
    "        encrypted_data = aesgcm.encrypt(nonce, data, None)\n",
    "        client_connections[i].send(encrypted_data)\n",
    "    \n",
    "\n",
    "    for i in range(3):\n",
    "        encrypted_data = client_connections[i].recv(4096)\n",
    "        shared_key = server_private_key.exchange(ec.ECDH(), client_public_keys[i])\n",
    "        derived_key = HKDF(algorithm=hashes.SHA256(), length=32, salt=None, info=b'handshake data').derive(shared_key)\n",
    "        aesgcm = AESGCM(derived_key)\n",
    "        data = aesgcm.decrypt(nonce, encrypted_data, None)\n",
    "        local_weights = pickle.loads(data)\n",
    "        client_weights.append(local_weights)\n",
    "    \n",
    "\n",
    "    new_weights = []\n",
    "    for weights_list in zip(*client_weights):\n",
    "        new_weights.append(np.mean(weights_list, axis=0))\n",
    "    \n",
    "    global_weights = new_weights\n",
    "    model.set_weights(global_weights)\n",
    "    \n",
    "    print(f\"Round {round_num + 1} complete.\")\n",
    "\n",
    "\n",
    "\n",
    "#model.save('federated_model.h5')\n",
    "for conn in client_connections:\n",
    "    conn.close()\n",
    "\n",
    "print(\"Federated learning complete and connections closed.\")\n"
   ]
  }
 ],
 "metadata": {
  "kernelspec": {
   "display_name": "Python 3",
   "language": "python",
   "name": "python3"
  },
  "language_info": {
   "codemirror_mode": {
    "name": "ipython",
    "version": 3
   },
   "file_extension": ".py",
   "mimetype": "text/x-python",
   "name": "python",
   "nbconvert_exporter": "python",
   "pygments_lexer": "ipython3",
   "version": "3.11.8"
  }
 },
 "nbformat": 4,
 "nbformat_minor": 5
}
